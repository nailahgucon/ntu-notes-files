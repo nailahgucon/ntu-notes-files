{
 "cells": [
  {
   "cell_type": "markdown",
   "metadata": {},
   "source": [
    "# CZ1104 Lab 4"
   ]
  },
  {
   "cell_type": "markdown",
   "metadata": {},
   "source": [
    "------------------------------------------------------------------------------"
   ]
  },
  {
   "cell_type": "code",
   "execution_count": 1,
   "metadata": {},
   "outputs": [],
   "source": [
    "import numpy as np\n",
    "from math import sqrt\n",
    "from decimal import Decimal as Dec"
   ]
  },
  {
   "cell_type": "markdown",
   "metadata": {},
   "source": [
    "### Question 1"
   ]
  },
  {
   "cell_type": "markdown",
   "metadata": {},
   "source": [
    "#### a"
   ]
  },
  {
   "cell_type": "markdown",
   "metadata": {},
   "source": [
    "Write a program to test if a set of vectors {v1,v2,…,vn} is an orthogonal set."
   ]
  },
  {
   "cell_type": "code",
   "execution_count": 2,
   "metadata": {},
   "outputs": [
    {
     "name": "stdout",
     "output_type": "stream",
     "text": [
      "--------------- TESTING OF orthogonal(A) FUNCTION ---------------\n",
      "\n",
      "Given test matrix 1:\n",
      "[[1 0 0]\n",
      " [0 1 0]\n",
      " [0 0 1]]\n",
      "\n",
      "Orthogonality test result:\n",
      ">> Given matrix is orthogonal\n",
      "\n",
      "Given test matrix 2:\n",
      "[[1 2 3]\n",
      " [4 5 6]\n",
      " [7 8 9]]\n",
      "\n",
      "Orthogonality test result:\n",
      ">> Given matrix is NOT orthogonal\n",
      ">> Non-Orthogonal pairs: vector 1 & vector 2\n"
     ]
    }
   ],
   "source": [
    "def isOrthogonal(A):\n",
    "    flag = 0\n",
    "    for i in range(len(A[0])):\n",
    "        col1 = A[:, i]\n",
    "        dotprod = 0\n",
    "        for j in range(i, len(A[0])):\n",
    "            if(i == j):\n",
    "                continue\n",
    "            col2 = A[:, j]\n",
    "            dotprod = np.transpose(col1).dot(col2)\n",
    "            if(dotprod != 0):\n",
    "                print(\">> Given matrix is NOT orthogonal\")\n",
    "                print(\">> Non-Orthogonal pairs: vector \" + str(i+1) + \" & vector \"+ str(j+1))\n",
    "                flag = 1\n",
    "                break\n",
    "        if(flag == 1):\n",
    "            break\n",
    "    if (flag == 0):\n",
    "        print(\">> Given matrix is orthogonal\")\n",
    "\n",
    "X = np.array([[1, 0, 0],\n",
    "            [0, 1, 0],\n",
    "            [0, 0, 1]])\n",
    "\n",
    "Y = np.array([[1, 2, 3],\n",
    "            [4, 5, 6],\n",
    "            [7, 8, 9]])\n",
    "\n",
    "print(\"--------------- TESTING OF orthogonal(A) FUNCTION ---------------\")\n",
    "print()\n",
    "print(\"Given test matrix 1:\")\n",
    "print(X)\n",
    "print()\n",
    "print(\"Orthogonality test result:\")\n",
    "isOrthogonal(X)\n",
    "print()\n",
    "print(\"Given test matrix 2:\")\n",
    "print(Y)\n",
    "print()\n",
    "print(\"Orthogonality test result:\")\n",
    "isOrthogonal(Y)"
   ]
  },
  {
   "cell_type": "markdown",
   "metadata": {},
   "source": [
    "#### b"
   ]
  },
  {
   "cell_type": "markdown",
   "metadata": {},
   "source": [
    "Output which pairs are not orthogonal. Test it for the column vectors of A"
   ]
  },
  {
   "cell_type": "code",
   "execution_count": 3,
   "metadata": {
    "scrolled": true
   },
   "outputs": [
    {
     "name": "stdout",
     "output_type": "stream",
     "text": [
      ">> Given matrix is orthogonal\n",
      "\n",
      "Pairs that are not orthogonal:\n",
      "[-6 -1  3  6  2 -3 -2  1]\n",
      "[-6 -1  3  6  2 -3 -2  1]\n",
      "\n",
      "Pairs that are not orthogonal:\n",
      "[-3  2  6 -3 -1  6 -1  2]\n",
      "[-3  2  6 -3 -1  6 -1  2]\n",
      "\n",
      "Pairs that are not orthogonal:\n",
      "[6 1 3 6 2 3 2 1]\n",
      "[6 1 3 6 2 3 2 1]\n",
      "\n",
      "Pairs that are not orthogonal:\n",
      "[ 1 -6 -2 -1  3  2 -3  6]\n",
      "[ 1 -6 -2 -1  3  2 -3  6]\n",
      "\n"
     ]
    }
   ],
   "source": [
    "import numpy as np\n",
    "\n",
    "a = np.array([[-6, -3, 6, 1],\n",
    "            [-1, 2, 1, -6],\n",
    "            [3, 6, 3, -2],\n",
    "            [6, -3, 6, -1],\n",
    "            [2, -1, 2, 3],\n",
    "            [-3, 6, 3, 2],\n",
    "            [-2, -1, 2, -3],\n",
    "            [1, 2, 1, 6]])\n",
    "\n",
    "isOrthogonal(a)\n",
    "print()\n",
    "\n",
    "# print pairs instead of just stating the vector pairs\n",
    "for j in range(0,len(a[0])):\n",
    "    for k in range(0,len(a[0])):\n",
    "        scalar = np.dot(a[:,j],a[:,k].transpose())\n",
    "        if(scalar != 0): \n",
    "            print(\"Pairs that are not orthogonal:\")\n",
    "            print(a[:,j])\n",
    "            print(a[:,k])\n",
    "            print()"
   ]
  },
  {
   "cell_type": "markdown",
   "metadata": {},
   "source": [
    "#### c"
   ]
  },
  {
   "cell_type": "markdown",
   "metadata": {},
   "source": [
    "Is it always true (in executing program on dot product) that 2 vectors v.w ≠ 0 means v is not orthogonal to w? If it is not necessary true, give an example and propose a fix."
   ]
  },
  {
   "cell_type": "markdown",
   "metadata": {},
   "source": [
    "> It is theorically true. But it is not programically true. This is because a float number may be present in the vectors and the dot product may not be 0 (Like lab 3, there are floating point values that have limited precisions that can lead to certain rounding-off or approximation of values that are close to 0)."
   ]
  },
  {
   "cell_type": "code",
   "execution_count": 4,
   "metadata": {},
   "outputs": [
    {
     "name": "stdout",
     "output_type": "stream",
     "text": [
      ">> Given matrix is NOT orthogonal\n",
      ">> Non-Orthogonal pairs: vector 1 & vector 3\n"
     ]
    }
   ],
   "source": [
    "Z = np.array([[3/sqrt(11), -1/sqrt(6), -1/sqrt(66)],\n",
    "            [1/sqrt(11),2/sqrt(6), -4/sqrt(66)],\n",
    "            [1/sqrt(11),1/sqrt(6), 7/sqrt(66)]])\n",
    "\n",
    "\n",
    "isOrthogonal(Z)\n",
    " "
   ]
  },
  {
   "cell_type": "markdown",
   "metadata": {},
   "source": [
    "> To solve the issue, `use of the decimal class` to obtain a higher precision of these values, hence showing that it is orthogonal."
   ]
  },
  {
   "cell_type": "code",
   "execution_count": 5,
   "metadata": {},
   "outputs": [
    {
     "name": "stdout",
     "output_type": "stream",
     "text": [
      ">> Given matrix is orthogonal\n"
     ]
    }
   ],
   "source": [
    "a = Dec(sqrt(11))\n",
    "b = Dec(sqrt(6))\n",
    "c = Dec(sqrt(66))\n",
    "\n",
    "Z_solve = np.array([[3/a, -1/b, -1/c],\n",
    "                    [1/a,2/b, -4/c],\n",
    "                    [1/a,1/b, 7/c]])\n",
    "\n",
    "isOrthogonal(Z_solve)"
   ]
  },
  {
   "cell_type": "markdown",
   "metadata": {},
   "source": [
    "### Question 2"
   ]
  },
  {
   "cell_type": "markdown",
   "metadata": {},
   "source": [
    "Write a module “Orthonormalisation” that defines a a procedure orthonormalise(L) with the following specs:\n",
    "\n",
    "- Input: a list L of linearly independent Vecs\n",
    "- Output: a list L* of len(L) orthonormal Vecs such that, for i= 1, 2, …, len(L), the first i Vecs of L* and the first i Vecs of L span the same space.\n"
   ]
  },
  {
   "cell_type": "code",
   "execution_count": 6,
   "metadata": {},
   "outputs": [],
   "source": [
    "def projectionV(vec1, vec2):\n",
    "    dotdiv = (vec1@vec2)/(vec2@vec2)\n",
    "    proj = dotdiv * vec2\n",
    "    return proj\n",
    "\n",
    "def orthoNormal(matrix):\n",
    "    \n",
    "    tmatrix = np.array(matrix)\n",
    "    n = len(matrix)\n",
    "    proj_x = 0\n",
    "    \n",
    "    for i in range (1,n):\n",
    "        for j in range(i):\n",
    "            proj_x = proj_x + projectionV(tmatrix[i],tmatrix[j])\n",
    "        ovec = np.subtract(tmatrix[i], proj_x)\n",
    "        tmatrix[i] = ovec\n",
    "        proj_x = 0\n",
    "    \n",
    "    for i in range(n):\n",
    "        mag = sqrt(tmatrix[i] @ tmatrix[i])\n",
    "        tmatrix[i] = tmatrix[i] / mag\n",
    "        \n",
    "    \n",
    "    return tmatrix.T"
   ]
  },
  {
   "cell_type": "code",
   "execution_count": 7,
   "metadata": {
    "scrolled": true
   },
   "outputs": [
    {
     "name": "stdout",
     "output_type": "stream",
     "text": [
      "Original Matrix:\n",
      "[[ 4.  3.  1.  2.]\n",
      " [ 8.  9. -5. -5.]\n",
      " [10.  1. -1.  5.]]\n",
      "\n",
      "Matrix after Orthonormalisation:\n",
      "[[ 0.73029674  0.18677078  0.5275409 ]\n",
      " [ 0.54772256  0.4027245  -0.6531217 ]\n",
      " [ 0.18257419 -0.56614893 -0.51230873]\n",
      " [ 0.36514837 -0.69455384  0.18075511]]\n"
     ]
    }
   ],
   "source": [
    "orth_test_list = np.array([[4,3,1,2],[8,9,-5,-5],[10,1,-1,5]],dtype=float)\n",
    "\n",
    "print(\"Original Matrix:\")\n",
    "print(orth_test_list)\n",
    "print()\n",
    "print(\"Matrix after Orthonormalisation:\")\n",
    "print(orthoNormal(orth_test_list))"
   ]
  },
  {
   "cell_type": "markdown",
   "metadata": {},
   "source": [
    "### Question 3"
   ]
  },
  {
   "cell_type": "markdown",
   "metadata": {},
   "source": [
    "#### a"
   ]
  },
  {
   "cell_type": "markdown",
   "metadata": {},
   "source": [
    "Write a program to compute the QR factorization of matrix A = QR, where Q is orthonormal and R is upper triangular. (refer to lecture notes for the theory). You may assume A consists of linearly independent vectors."
   ]
  },
  {
   "cell_type": "code",
   "execution_count": 8,
   "metadata": {},
   "outputs": [],
   "source": [
    "def QR_factorization(matrix):\n",
    "    mat = matrix\n",
    "    tmat = matrix.T\n",
    "    n = tmat.shape[1]\n",
    "    Qmatrix = orthoNormal(mat)\n",
    "    Rmatrix = np.zeros((n, n))\n",
    "    \n",
    "    QT = Qmatrix.T\n",
    "    for i in range(n):\n",
    "        for j in range(i,n):\n",
    "            Rmatrix[i,j] = QT[i]@ mat[j]\n",
    "            \n",
    "    return Qmatrix ,Rmatrix"
   ]
  },
  {
   "cell_type": "markdown",
   "metadata": {},
   "source": [
    "#### b"
   ]
  },
  {
   "cell_type": "markdown",
   "metadata": {},
   "source": [
    "Compute the QR factorization of A, formed by the 3 column vectors in Q2."
   ]
  },
  {
   "cell_type": "code",
   "execution_count": 9,
   "metadata": {},
   "outputs": [
    {
     "name": "stdout",
     "output_type": "stream",
     "text": [
      "Matrix Q:\n",
      "\n",
      "[[ 0.73029674  0.18677078  0.5275409 ]\n",
      " [ 0.54772256  0.4027245  -0.6531217 ]\n",
      " [ 0.18257419 -0.56614893 -0.51230873]\n",
      " [ 0.36514837 -0.69455384  0.18075511]]\n",
      "\n",
      "\n",
      "Matrix R:\n",
      "\n",
      "[[ 5.47722558  8.03326418  9.49385766]\n",
      " [ 0.         11.42220061 -0.63618797]\n",
      " [ 0.          0.          6.0383716 ]]\n",
      "\n",
      "\n",
      "Matrix A:\n",
      "\n",
      "[[ 4.  3.  1.  2.]\n",
      " [ 8.  9. -5. -5.]\n",
      " [10.  1. -1.  5.]]\n",
      "\n",
      "\n"
     ]
    }
   ],
   "source": [
    "matrixA = np.array([[4.0, 3.0, 1.0, 2.0],\n",
    "              [8.0, 9.0, -5.0, -5.0],\n",
    "              [10.0, 1.0, -1.0, 5.0]])\n",
    "\n",
    "Q, R = QR_factorization(matrixA)\n",
    "\n",
    "print(\"Matrix Q:\\n\")\n",
    "print(Q)\n",
    "print(\"\\n\")\n",
    "\n",
    "print(\"Matrix R:\\n\")\n",
    "print(R)\n",
    "print(\"\\n\")\n",
    "\n",
    "print(\"Matrix A:\\n\")\n",
    "print((Q @ R).T)\n",
    "print(\"\\n\")"
   ]
  },
  {
   "cell_type": "code",
   "execution_count": null,
   "metadata": {},
   "outputs": [],
   "source": []
  }
 ],
 "metadata": {
  "kernelspec": {
   "display_name": "Python 3",
   "language": "python",
   "name": "python3"
  },
  "language_info": {
   "codemirror_mode": {
    "name": "ipython",
    "version": 3
   },
   "file_extension": ".py",
   "mimetype": "text/x-python",
   "name": "python",
   "nbconvert_exporter": "python",
   "pygments_lexer": "ipython3",
   "version": "3.8.5"
  }
 },
 "nbformat": 4,
 "nbformat_minor": 4
}
