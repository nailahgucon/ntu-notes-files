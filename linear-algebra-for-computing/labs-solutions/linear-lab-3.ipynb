{
 "cells": [
  {
   "cell_type": "markdown",
   "metadata": {},
   "source": [
    "# CZ1104 Linear Lab 3\n",
    "---\n",
    "Import all the Necessary Packages"
   ]
  },
  {
   "cell_type": "code",
   "execution_count": 2,
   "metadata": {},
   "outputs": [],
   "source": [
    "import matplotlib.pyplot as plt\n",
    "import numpy as np\n",
    "import string\n",
    "import math\n",
    "from fractions import Fraction\n",
    "from scipy import linalg"
   ]
  },
  {
   "cell_type": "markdown",
   "metadata": {},
   "source": [
    "## Problem 1"
   ]
  },
  {
   "cell_type": "markdown",
   "metadata": {},
   "source": [
    "#### Echelon Form\n",
    "Follow step by step, and code the echelon form method stated below. (Read the step by step account below). Use  your code to test out some matrices and see if they reduce it to echelon form. Because floats are cumbersome to deal with, I allow you to code with entries in GF(2), i.e. entries with only 0s and 1s"
   ]
  },
  {
   "cell_type": "markdown",
   "metadata": {},
   "source": [
    "### Sorting Rows by Position of the Leftmost Nonzero"
   ]
  },
  {
   "cell_type": "code",
   "execution_count": 3,
   "metadata": {},
   "outputs": [],
   "source": [
    "def echelon_form(rowlist):\n",
    "    new_rowlist = []\n",
    "    rows_left = set(range(len(rowlist)))\n",
    "    col_label_list = rowlist.shape[1];\n",
    "    \n",
    "    for c in range (col_label_list):\n",
    "        rows_with_nonzero = [r for r in rows_left if rowlist[r][c]!=0]\n",
    "        \n",
    "        if rows_with_nonzero!=[]:\n",
    "            pivot = rows_with_nonzero[0]\n",
    "            rows_left.remove(pivot)\n",
    "            new_rowlist.append(rowlist[pivot])\n",
    "        \n",
    "        for r in rows_with_nonzero[1:]:\n",
    "            multiplier = rowlist[r][c]/rowlist[pivot][c]\n",
    "            rowlist[r] = rowlist[r] - multiplier * rowlist[pivot]\n",
    "            \n",
    "    for r in rows_left:\n",
    "        new_rowlist.append(rowlist[r])\n",
    "        \n",
    "    return new_rowlist\n",
    "        "
   ]
  },
  {
   "cell_type": "code",
   "execution_count": 4,
   "metadata": {},
   "outputs": [
    {
     "name": "stdout",
     "output_type": "stream",
     "text": [
      "[[1 0 1 1]\n",
      " [0 1 0 0]\n",
      " [0 0 1 1]\n",
      " [0 0 0 1]]\n"
     ]
    }
   ],
   "source": [
    "matrix1 = np.vstack([[0,0,1,1],\n",
    "         [1,0,1,1],\n",
    "         [1,0,0,1],\n",
    "         [1,1,1,1]])\n",
    "\n",
    "matrixd = np.array(echelon_form(matrix1))\n",
    "print(matrixd)"
   ]
  },
  {
   "cell_type": "markdown",
   "metadata": {},
   "source": [
    "## Problem 2(a) Based on Announcement"
   ]
  },
  {
   "cell_type": "markdown",
   "metadata": {},
   "source": [
    "Useing ech form to solve system of equations (you cook up some equations)"
   ]
  },
  {
   "cell_type": "markdown",
   "metadata": {},
   "source": [
    "Define a Matrix A and Matrix B to work with"
   ]
  },
  {
   "cell_type": "code",
   "execution_count": 5,
   "metadata": {},
   "outputs": [],
   "source": [
    "matrixA = np.vstack([[2,3,4],[1,2,3],[1,4,5]]).astype(float)\n",
    "matrixB = np.vstack([[1],[1],[2]]).astype(float)"
   ]
  },
  {
   "cell_type": "markdown",
   "metadata": {},
   "source": [
    "Function for backward substituition"
   ]
  },
  {
   "cell_type": "code",
   "execution_count": 6,
   "metadata": {},
   "outputs": [],
   "source": [
    "def backward_sub(a,b):\n",
    "    n = b.size\n",
    "    x = np.zeros(n)\n",
    "    x[n-1] = b[n-1]/a[n-1,n-1]\n",
    "    for i in range (n-2, -1, -1):\n",
    "        value = 0\n",
    "        for j in range (i+1, n):\n",
    "            value += a[i,j]*x[j]\n",
    "        \n",
    "        x[i] = (b[i] - value)/a[i,i]\n",
    "    \n",
    "    return (x)"
   ]
  },
  {
   "cell_type": "markdown",
   "metadata": {},
   "source": [
    "Form the Augmented Matrix A and B"
   ]
  },
  {
   "cell_type": "code",
   "execution_count": 7,
   "metadata": {},
   "outputs": [
    {
     "name": "stdout",
     "output_type": "stream",
     "text": [
      "Augmented Matrix:\n",
      "[2. 3. 4. 1.]\n",
      "[1. 2. 3. 1.]\n",
      "[1. 4. 5. 2.]\n"
     ]
    }
   ],
   "source": [
    "AugMat = np.concatenate((matrixA,matrixB), axis = 1)\n",
    "print('Augmented Matrix:')\n",
    "for i, col in enumerate(AugMat):\n",
    "    print(col)"
   ]
  },
  {
   "cell_type": "markdown",
   "metadata": {},
   "source": [
    "Perform the echelon form using the function in Q1"
   ]
  },
  {
   "cell_type": "code",
   "execution_count": 8,
   "metadata": {},
   "outputs": [
    {
     "name": "stdout",
     "output_type": "stream",
     "text": [
      "Echelon Form Matrix:\n",
      "[2. 3. 4. 1.]\n",
      "[0.  0.5 1.  0.5]\n",
      "[ 0.  0. -2. -1.]\n"
     ]
    }
   ],
   "source": [
    "echfmatrix = np.array(echelon_form(AugMat))\n",
    "print('Echelon Form Matrix:')\n",
    "for i, col in enumerate(echfmatrix):\n",
    "    print(col)"
   ]
  },
  {
   "cell_type": "markdown",
   "metadata": {},
   "source": [
    "Extract B last index out the Echelon form matrix"
   ]
  },
  {
   "cell_type": "code",
   "execution_count": 9,
   "metadata": {},
   "outputs": [],
   "source": [
    "B = []\n",
    "for i, col in enumerate(echfmatrix):\n",
    "    B.append(col[echfmatrix.shape[1]-1])\n",
    "\n",
    "B = np.vstack(B)\n",
    "A = np.delete(echfmatrix,echfmatrix.shape[1]-1, axis =1)"
   ]
  },
  {
   "cell_type": "markdown",
   "metadata": {},
   "source": [
    "Find X matrix"
   ]
  },
  {
   "cell_type": "code",
   "execution_count": 10,
   "metadata": {},
   "outputs": [
    {
     "name": "stdout",
     "output_type": "stream",
     "text": [
      "By Backward Substitution, X is:\n",
      "[-0.5  0.   0.5]\n"
     ]
    }
   ],
   "source": [
    "print(\"By Backward Substitution, X is:\")\n",
    "X = backward_sub(A,B)\n",
    "print(X)"
   ]
  },
  {
   "cell_type": "markdown",
   "metadata": {},
   "source": [
    "# Problem 2(b)"
   ]
  },
  {
   "cell_type": "code",
   "execution_count": 38,
   "metadata": {},
   "outputs": [],
   "source": [
    "def echelon_form1(rowlist):\n",
    "    new_rowlist = []\n",
    "    rows_left = set(range(len(rowlist)))\n",
    "    col_label_list = rowlist.shape[1];\n",
    "    \n",
    "    for c in range (col_label_list):\n",
    "        rows_with_nonzero = [r for r in rows_left if rowlist[r][c]!=0]\n",
    "        \n",
    "        if rows_with_nonzero!=[]:\n",
    "            pivot = rows_with_nonzero[0]\n",
    "            rows_left.remove(pivot)\n",
    "            new_rowlist.append(rowlist[pivot])\n",
    "        \n",
    "        for r in rows_with_nonzero[1:]:\n",
    "            multiplier = rowlist[r][c]/rowlist[pivot][c]\n",
    "            multiplier_one = np.multiply(rowlist[pivot], multiplier)\n",
    "            multiplier1_frac = [Fraction((x)) for x in multiplier_one]\n",
    "            \n",
    "            for i, a in enumerate(rowlist[r]):\n",
    "                if multiplier1_frac[i].denominator != 1:\n",
    "                    rowlist[r][i] = a - multiplier1_frac[i]\n",
    "                else:\n",
    "                    rowlist[r][i] = a - multiplier1_frac[i].numerator\n",
    "\n",
    "            \n",
    "    for r in rows_left:\n",
    "        new_rowlist.append(rowlist[r])\n",
    "        \n",
    "    return new_rowlist\n",
    "        "
   ]
  },
  {
   "cell_type": "code",
   "execution_count": 41,
   "metadata": {},
   "outputs": [
    {
     "name": "stdout",
     "output_type": "stream",
     "text": [
      "[[1. 2. 3. 4. 5.]\n",
      " [0. 2. 3. 4. 5.]\n",
      " [0. 0. 0. 3. 2.]\n",
      " [0. 0. 0. 0. 3.]\n",
      " [0. 0. 0. 0. 0.]]\n"
     ]
    }
   ],
   "source": [
    "matrix = np.array([[0,2,3,4,5],[0,0,0,3,2],[1,2,3,4,5],[0,0,0,6,7],[0,0,0,9,8]],dtype=float)\n",
    "echformmat = echelon_form1(matrix)\n",
    "print(np.vstack(echformmat))"
   ]
  }
 ],
 "metadata": {
  "kernelspec": {
   "display_name": "Python 3",
   "language": "python",
   "name": "python3"
  },
  "language_info": {
   "codemirror_mode": {
    "name": "ipython",
    "version": 3
   },
   "file_extension": ".py",
   "mimetype": "text/x-python",
   "name": "python",
   "nbconvert_exporter": "python",
   "pygments_lexer": "ipython3",
   "version": "3.8.5"
  }
 },
 "nbformat": 4,
 "nbformat_minor": 4
}
