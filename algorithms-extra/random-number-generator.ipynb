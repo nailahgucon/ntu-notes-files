{
 "cells": [
  {
   "cell_type": "markdown",
   "metadata": {},
   "source": [
    "### Random Number Generator for Ford Fulkerson Question \n",
    "#### (CZ1107 Data Structures & Algorithms Graphs Assignment \"Project Matching\" Question)\n",
    "##### Purpose: random number inputs to test program"
   ]
  },
  {
   "cell_type": "code",
   "execution_count": 1,
   "metadata": {},
   "outputs": [],
   "source": [
    "import numpy as np\n",
    "import random\n",
    "from numpy.random import default_rng"
   ]
  },
  {
   "cell_type": "code",
   "execution_count": 2,
   "metadata": {},
   "outputs": [],
   "source": [
    "# number to be changed\n",
    "numStudents = 30\n",
    "numProj = 30\n",
    "numMentor = 30"
   ]
  },
  {
   "cell_type": "code",
   "execution_count": 3,
   "metadata": {},
   "outputs": [
    {
     "name": "stdout",
     "output_type": "stream",
     "text": [
      "30 30 30\n",
      "28 15 5 17 9 1 20 18 6 21 19 22 25 4 3 11 8 29 16 2 14 24 7 28 30 12 13 27 10 23 24 18 27 13 22 17 9 11 12 7 25 6 5 4 20\n",
      "6 23 4 18 21 3 13 22 3 24 13 2 30 6 4 25 11 9 7 16 15 18 21 8 23 17 26 10 1 12 22\n",
      "12 2 25 15 6 7 20 18 30 17 5 23 11 26 23 1\n",
      "3 10 10 29 22 25 17 28 12 14 18 30 7 1 5\n",
      "19 8 24 19 11 27 10 6 15 17 13 14 16 18 23 29 4 2 28 25 1 1 27 23 4 18 24 14 20\n",
      "5 3 26 11 3 14 8 16 15 25\n",
      "25 26 23 5 7 16 18 29 4 11 21 20 12 3 9 24 8 10 13 1 22 14 19 26 27 30 2 9 10 30 4 17 5 2 13 8 19 25 20 12 18 26 21 16 29 23 6 24 11 28 22 15 27\n",
      "10 30 9 8 14 16 26 30 23 27 1 6 7 13 4 5 15 29 26 24 23 11 1 25 2 27 12 8 21 9 17 10 22 19 30 16 18 20 14 3 28 6\n",
      "7 15 17 28 11 6 5 19 3 27 10 2 24 28 25 3 1 16 17 19 22 18 5 12\n",
      "7 11 4 11 13 14 1 22 24 19 26 8 11 18 16 27 25 29 4 22\n",
      "17 22 4 23 2 21 22 15 26 20 25 30 28 11 16 18 3 13 24 6 5 7 26 16 24 25 29 1 22 20 21 4 9 27 11 30 2 18 19 28 3\n",
      "0 5 15 26 14 16 12\n",
      "16 3 30 7 16 4 20 24 10 26 22 14 23 12 5 28 13 27 3 25 2\n",
      "25 15 21 26 28 18 7 17 14 4 2 24 22 10 3 8 16 20 25 12 5 13 15 23 30 29 1 16 6 10 29 27 30 26 8 5 13 22 14 15 12 2\n",
      "7 13 23 3 6 8 26 27 9 7 30 8 9 10 2 26 19 21 18 11 29 4\n",
      "29 2 26 14 6 5 17 7 24 19 8 30 16 18 20 29 12 2 9 23 13 10 15 25 22 28 4 21 11 27 3 26 17\n",
      "15 13 2 18 23 4 1 8 12 30 9 29 13 5 22 3 16 5 25 1 10 22 14 27 7 2 30 24 21 20\n",
      "25 4 16 10 5 20 4 8 14 29 18 9 25 21 23 13 7 26 15 27 19 6 11 1 28 22 24 23 10 14 28\n",
      "13 21 28 15 21 25 9 3 13 2 1 18 7 24 30 11 30 4 7 18 10 24 8 19 27 15 17 3 9 12 20 5 29 13 22 26\n",
      "3 8 18 27 4 11 25 20 29 10 2 27 17\n",
      "7 8 20 30 23 27 15 5 28 22 3 19 17 21 27 16 2\n",
      "3 13 12 25 13 26 12 9 2 25 15 11 14 10 21 29 18 1\n",
      "26 23 1 30 2 3 19 14 26 6 23 5 7 28 20 17 21 9 11 16 12 18 15 22 27 4 8 13 21 6 3 23 13 20 27 26 29 4 14 17 1 25 8 11 24 15 7 28 22 9 5\n",
      "19 9 18 22 30 4 29 8 27 24 6 13 20 7 15 23 25 5 14 28 16 26 15 25 19 7 1 4 21 27\n",
      "3 6 20 18 10 16 17 28 3 8 30\n",
      "26 22 13 25 16 2 7 9 28 12 30 3 23 4 26 5 10 21 6 29 19 14 11 17 18 15 8 20 9 1 2 15 13 10 26 17 6 23 4 22 30 28 14 8 3 29 25 27 24 21\n",
      "4 30 4 3 27 30 24 2 17 7 26 5 27 4 29 21 6 10 15 11 9 25 20 14 8 19 22 30 16 28 1 18 12 3 13 23\n",
      "27 2 29 14 27 16 8 21 26 28 3 22 23 18 11 24 19 12 2 15 25 20 30 9 17 5 7 13 1 28 27\n",
      "23 5 10 1 12 5 15 27 7 28 11 13 20 26 6 3 22 16 29 19 30 24 14 25 9 2 16 7 12 25\n",
      "18 15 6 14 22 29 25 13 21 2 17 26 18 16 9 23 30 11 12 15 10 14 8 16 5 28 6 2 13 19 23 26 22 1 18\n"
     ]
    }
   ],
   "source": [
    "rng = default_rng()\n",
    "\n",
    "print(numStudents,numProj,numMentor)\n",
    "for i in range(0,numStudents):\n",
    "    numPrefProj = random.randint(0, numProj)\n",
    "    numPrefMent = random.randint(0, numMentor)\n",
    "    print(numPrefProj,numPrefMent,end='')\n",
    "    \n",
    "    randomProjs = rng.choice(np.arange(1,numProj+1), size=numPrefProj, replace=False)\n",
    "    randomMents = rng.choice(np.arange(1,numMentor+1), size=numPrefMent, replace=False)\n",
    "    for proj in randomProjs:\n",
    "        print('',proj,end='')\n",
    "    for ment in randomMents:\n",
    "        print('',ment,end='')\n",
    "    print()\n",
    "    "
   ]
  },
  {
   "cell_type": "code",
   "execution_count": null,
   "metadata": {},
   "outputs": [],
   "source": []
  }
 ],
 "metadata": {
  "kernelspec": {
   "display_name": "Python 3",
   "language": "python",
   "name": "python3"
  },
  "language_info": {
   "codemirror_mode": {
    "name": "ipython",
    "version": 3
   },
   "file_extension": ".py",
   "mimetype": "text/x-python",
   "name": "python",
   "nbconvert_exporter": "python",
   "pygments_lexer": "ipython3",
   "version": "3.8.5"
  }
 },
 "nbformat": 4,
 "nbformat_minor": 4
}
